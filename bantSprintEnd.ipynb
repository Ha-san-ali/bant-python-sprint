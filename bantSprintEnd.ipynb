{
 "cells": [
  {
   "cell_type": "markdown",
   "metadata": {
    "slideshow": {
     "slide_type": "slide"
    }
   },
   "source": [
    "# Sprint report test project with python\n",
    "\n",
    "This project is to see if Hasan can make sprint ends more useful by throwing away excel and using python instead.\n",
    "\n",
    "The sprint analyzed is Daikon(20)"
   ]
  },
  {
   "cell_type": "code",
   "execution_count": 1,
   "metadata": {
    "collapsed": true,
    "slideshow": {
     "slide_type": "subslide"
    }
   },
   "outputs": [],
   "source": [
    "# import dependencies\n",
    "import pandas as pd\n",
    "import numpy as np\n",
    "import matplotlib.pyplot as plt\n",
    "%matplotlib inline"
   ]
  },
  {
   "cell_type": "code",
   "execution_count": 2,
   "metadata": {
    "collapsed": true,
    "slideshow": {
     "slide_type": "subslide"
    }
   },
   "outputs": [],
   "source": [
    "# Load dataset\n",
    "df_bant_sprint20 = pd.read_csv('bant_sprint_20.csv')"
   ]
  },
  {
   "cell_type": "code",
   "execution_count": 3,
   "metadata": {
    "slideshow": {
     "slide_type": "subslide"
    }
   },
   "outputs": [
    {
     "data": {
      "text/html": [
       "<div>\n",
       "<style scoped>\n",
       "    .dataframe tbody tr th:only-of-type {\n",
       "        vertical-align: middle;\n",
       "    }\n",
       "\n",
       "    .dataframe tbody tr th {\n",
       "        vertical-align: top;\n",
       "    }\n",
       "\n",
       "    .dataframe thead th {\n",
       "        text-align: right;\n",
       "    }\n",
       "</style>\n",
       "<table border=\"1\" class=\"dataframe\">\n",
       "  <thead>\n",
       "    <tr style=\"text-align: right;\">\n",
       "      <th></th>\n",
       "      <th>Key</th>\n",
       "      <th>Issue Type</th>\n",
       "      <th>Summary</th>\n",
       "      <th>Story Points</th>\n",
       "      <th>Status</th>\n",
       "      <th>Project</th>\n",
       "    </tr>\n",
       "  </thead>\n",
       "  <tbody>\n",
       "    <tr>\n",
       "      <th>0</th>\n",
       "      <td>BANTI-78</td>\n",
       "      <td>Bug</td>\n",
       "      <td>Unable to create an Insulin reading</td>\n",
       "      <td>0.5</td>\n",
       "      <td>Closed</td>\n",
       "      <td>bant - iOS</td>\n",
       "    </tr>\n",
       "    <tr>\n",
       "      <th>1</th>\n",
       "      <td>BANTI-76</td>\n",
       "      <td>Feature</td>\n",
       "      <td>MealReading Overview View Controller</td>\n",
       "      <td>2.0</td>\n",
       "      <td>Closed</td>\n",
       "      <td>bant - iOS</td>\n",
       "    </tr>\n",
       "    <tr>\n",
       "      <th>2</th>\n",
       "      <td>BANTI-75</td>\n",
       "      <td>Bug</td>\n",
       "      <td>BantBook no longer loads</td>\n",
       "      <td>0.5</td>\n",
       "      <td>Closed</td>\n",
       "      <td>bant - iOS</td>\n",
       "    </tr>\n",
       "    <tr>\n",
       "      <th>3</th>\n",
       "      <td>BANTI-62</td>\n",
       "      <td>Enhancement</td>\n",
       "      <td>Make the settings button easier to click</td>\n",
       "      <td>0.5</td>\n",
       "      <td>Ready to Merge</td>\n",
       "      <td>bant - iOS</td>\n",
       "    </tr>\n",
       "    <tr>\n",
       "      <th>4</th>\n",
       "      <td>BANTI-59</td>\n",
       "      <td>Chore</td>\n",
       "      <td>Design Meal Model</td>\n",
       "      <td>3.0</td>\n",
       "      <td>Closed</td>\n",
       "      <td>bant - iOS</td>\n",
       "    </tr>\n",
       "  </tbody>\n",
       "</table>\n",
       "</div>"
      ],
      "text/plain": [
       "        Key   Issue Type                                   Summary  \\\n",
       "0  BANTI-78          Bug       Unable to create an Insulin reading   \n",
       "1  BANTI-76      Feature      MealReading Overview View Controller   \n",
       "2  BANTI-75          Bug                  BantBook no longer loads   \n",
       "3  BANTI-62  Enhancement  Make the settings button easier to click   \n",
       "4  BANTI-59        Chore                         Design Meal Model   \n",
       "\n",
       "   Story Points          Status     Project  \n",
       "0           0.5          Closed  bant - iOS  \n",
       "1           2.0          Closed  bant - iOS  \n",
       "2           0.5          Closed  bant - iOS  \n",
       "3           0.5  Ready to Merge  bant - iOS  \n",
       "4           3.0          Closed  bant - iOS  "
      ]
     },
     "execution_count": 3,
     "metadata": {},
     "output_type": "execute_result"
    }
   ],
   "source": [
    "df_bant_sprint20.head()"
   ]
  },
  {
   "cell_type": "markdown",
   "metadata": {
    "slideshow": {
     "slide_type": "slide"
    }
   },
   "source": [
    "# Plan\n",
    "\n",
    "The plan now is to provide insightful information about the sprint to the audience. \n",
    "\n",
    "1. Separate the projects into bant Android and bant iOS\n",
    "\n",
    "2. Identify what tickets were completed and what were not\n",
    "\n",
    "3. Create two graphs that show complete vs incomplete tickets\n",
    "\n",
    "4. Compare to previous velocity\n"
   ]
  },
  {
   "cell_type": "markdown",
   "metadata": {
    "slideshow": {
     "slide_type": "fragment"
    }
   },
   "source": [
    "## Separate Platforms"
   ]
  },
  {
   "cell_type": "code",
   "execution_count": 4,
   "metadata": {
    "collapsed": true,
    "slideshow": {
     "slide_type": "fragment"
    }
   },
   "outputs": [],
   "source": [
    "# Seperate the projects\n",
    "df_bant_sprint20IOS = df_bant_sprint20[df_bant_sprint20['Project'] == 'bant - iOS']\n",
    "df_bant_sprint20ANDROID = df_bant_sprint20[df_bant_sprint20['Project'] == 'bant - Android']"
   ]
  },
  {
   "cell_type": "markdown",
   "metadata": {
    "slideshow": {
     "slide_type": "slide"
    }
   },
   "source": [
    "# iOS"
   ]
  },
  {
   "cell_type": "code",
   "execution_count": 5,
   "metadata": {
    "slideshow": {
     "slide_type": "subslide"
    }
   },
   "outputs": [
    {
     "data": {
      "text/plain": [
       "41.5"
      ]
     },
     "execution_count": 5,
     "metadata": {},
     "output_type": "execute_result"
    }
   ],
   "source": [
    "# Calculate Total Story Points\n",
    "totalIOSPoints = df_bant_sprint20IOS['Story Points'].sum()\n",
    "totalIOSPoints"
   ]
  },
  {
   "cell_type": "code",
   "execution_count": 6,
   "metadata": {
    "slideshow": {
     "slide_type": "subslide"
    }
   },
   "outputs": [
    {
     "data": {
      "text/plain": [
       "30.5"
      ]
     },
     "execution_count": 6,
     "metadata": {},
     "output_type": "execute_result"
    }
   ],
   "source": [
    "# Calculate Velocity\n",
    "finishedIOS = df_bant_sprint20IOS[(df_bant_sprint20IOS['Status'] == 'Ready to Merge') | (df_bant_sprint20IOS['Status'] == 'Closed')]\n",
    "finishedIOSPoints = finishedIOS['Story Points'].sum()\n",
    "finishedIOSPoints"
   ]
  },
  {
   "cell_type": "code",
   "execution_count": 7,
   "metadata": {
    "scrolled": true,
    "slideshow": {
     "slide_type": "subslide"
    }
   },
   "outputs": [
    {
     "data": {
      "text/html": [
       "<div>\n",
       "<style scoped>\n",
       "    .dataframe tbody tr th:only-of-type {\n",
       "        vertical-align: middle;\n",
       "    }\n",
       "\n",
       "    .dataframe tbody tr th {\n",
       "        vertical-align: top;\n",
       "    }\n",
       "\n",
       "    .dataframe thead th {\n",
       "        text-align: right;\n",
       "    }\n",
       "</style>\n",
       "<table border=\"1\" class=\"dataframe\">\n",
       "  <thead>\n",
       "    <tr style=\"text-align: right;\">\n",
       "      <th></th>\n",
       "      <th>Total iOS Story Points</th>\n",
       "      <th>Completed iOS points</th>\n",
       "      <th>Completed %</th>\n",
       "    </tr>\n",
       "  </thead>\n",
       "  <tbody>\n",
       "    <tr>\n",
       "      <th>0</th>\n",
       "      <td>41.5</td>\n",
       "      <td>30.5</td>\n",
       "      <td>73.493976</td>\n",
       "    </tr>\n",
       "  </tbody>\n",
       "</table>\n",
       "</div>"
      ],
      "text/plain": [
       "   Total iOS Story Points  Completed iOS points  Completed %\n",
       "0                    41.5                  30.5    73.493976"
      ]
     },
     "execution_count": 7,
     "metadata": {},
     "output_type": "execute_result"
    }
   ],
   "source": [
    "# Compare Finished and Unfinished Points\n",
    "headings = ['Total iOS Story Points', 'Completed iOS points', 'Completed %']\n",
    "table = [[totalIOSPoints, finishedIOSPoints, (finishedIOSPoints / totalIOSPoints) * 100]]\n",
    "iOSPerformance = pd.DataFrame(columns=headings, data=table)\n",
    "iOSPerformance"
   ]
  },
  {
   "cell_type": "code",
   "execution_count": 8,
   "metadata": {
    "slideshow": {
     "slide_type": "subslide"
    }
   },
   "outputs": [
    {
     "data": {
      "image/png": "[encoded data removed]",
      "text/plain": [
       "<matplotlib.figure.Figure at 0x10b5f23c8>"
      ]
     },
     "metadata": {},
     "output_type": "display_data"
    }
   ],
   "source": [
    "# Graph performance\n",
    "plt.bar(x=['Completed iOS Points','Total iOS Points'], height=[finishedIOSPoints, totalIOSPoints], align='center', color=['green','blue'])\n",
    "plt.ylabel('Story points (Days)')\n",
    "plt.title('iOS Performance')\n",
    "plt.show()"
   ]
  },
  {
   "cell_type": "code",
   "execution_count": 9,
   "metadata": {
    "slideshow": {
     "slide_type": "subslide"
    }
   },
   "outputs": [
    {
     "name": "stdout",
     "output_type": "stream",
     "text": [
      "Our iOS velocity this sprint is 30.5 points\n",
      "We have completed 73.0 % of our tickets\n"
     ]
    }
   ],
   "source": [
    "print('Our iOS velocity this sprint is' , finishedIOSPoints , 'points')\n",
    "print('We have completed' , iOSPerformance['Completed %'].iloc[0].round() , '% of our tickets')"
   ]
  },
  {
   "cell_type": "markdown",
   "metadata": {
    "slideshow": {
     "slide_type": "slide"
    }
   },
   "source": [
    "# Android"
   ]
  },
  {
   "cell_type": "code",
   "execution_count": 10,
   "metadata": {
    "slideshow": {
     "slide_type": "subslide"
    }
   },
   "outputs": [
    {
     "data": {
      "text/plain": [
       "25.0"
      ]
     },
     "execution_count": 10,
     "metadata": {},
     "output_type": "execute_result"
    }
   ],
   "source": [
    "# Calculate Total Story Points\n",
    "totalAndroidPoints = df_bant_sprint20ANDROID['Story Points'].sum()\n",
    "totalAndroidPoints"
   ]
  },
  {
   "cell_type": "code",
   "execution_count": 11,
   "metadata": {
    "slideshow": {
     "slide_type": "subslide"
    }
   },
   "outputs": [
    {
     "data": {
      "text/plain": [
       "21.0"
      ]
     },
     "execution_count": 11,
     "metadata": {},
     "output_type": "execute_result"
    }
   ],
   "source": [
    "# Calculate Velocity\n",
    "finishedAndroid = df_bant_sprint20ANDROID[(df_bant_sprint20ANDROID['Status'] == 'Ready to Merge') | (df_bant_sprint20ANDROID['Status'] == 'Closed')]\n",
    "finishedAndroidPoints = finishedAndroid['Story Points'].sum()\n",
    "finishedAndroidPoints"
   ]
  },
  {
   "cell_type": "code",
   "execution_count": 12,
   "metadata": {
    "slideshow": {
     "slide_type": "subslide"
    }
   },
   "outputs": [
    {
     "data": {
      "text/html": [
       "<div>\n",
       "<style scoped>\n",
       "    .dataframe tbody tr th:only-of-type {\n",
       "        vertical-align: middle;\n",
       "    }\n",
       "\n",
       "    .dataframe tbody tr th {\n",
       "        vertical-align: top;\n",
       "    }\n",
       "\n",
       "    .dataframe thead th {\n",
       "        text-align: right;\n",
       "    }\n",
       "</style>\n",
       "<table border=\"1\" class=\"dataframe\">\n",
       "  <thead>\n",
       "    <tr style=\"text-align: right;\">\n",
       "      <th></th>\n",
       "      <th>Total Android Story Points</th>\n",
       "      <th>Completed Android points</th>\n",
       "      <th>Completed %</th>\n",
       "    </tr>\n",
       "  </thead>\n",
       "  <tbody>\n",
       "    <tr>\n",
       "      <th>0</th>\n",
       "      <td>25.0</td>\n",
       "      <td>21.0</td>\n",
       "      <td>84.0</td>\n",
       "    </tr>\n",
       "  </tbody>\n",
       "</table>\n",
       "</div>"
      ],
      "text/plain": [
       "   Total Android Story Points  Completed Android points  Completed %\n",
       "0                        25.0                      21.0         84.0"
      ]
     },
     "execution_count": 12,
     "metadata": {},
     "output_type": "execute_result"
    }
   ],
   "source": [
    "# Compare Finished and Unfinished Points\n",
    "headings = ['Total Android Story Points', 'Completed Android points', 'Completed %']\n",
    "table = [[totalAndroidPoints, finishedAndroidPoints, (finishedAndroidPoints / totalAndroidPoints) * 100]]\n",
    "androidPerformance = pd.DataFrame(columns=headings, data=table)\n",
    "androidPerformance"
   ]
  },
  {
   "cell_type": "code",
   "execution_count": 13,
   "metadata": {
    "slideshow": {
     "slide_type": "subslide"
    }
   },
   "outputs": [
    {
     "data": {
      "image/png": "[encoded data removed]",
      "text/plain": [
       "<matplotlib.figure.Figure at 0x10b607fd0>"
      ]
     },
     "metadata": {},
     "output_type": "display_data"
    }
   ],
   "source": [
    "# Graph performance\n",
    "plt.bar(x=['Completed Android Points','Total Android Points'], height=[finishedAndroidPoints, totalAndroidPoints], align='center', color=['green','blue'])\n",
    "plt.ylabel('Story points (Days)')\n",
    "plt.title('Android Performance')\n",
    "plt.show()"
   ]
  },
  {
   "cell_type": "code",
   "execution_count": 14,
   "metadata": {
    "slideshow": {
     "slide_type": "subslide"
    }
   },
   "outputs": [
    {
     "name": "stdout",
     "output_type": "stream",
     "text": [
      "Our Android velocity this sprint is 21.0 points\n",
      "We have completed 84.0 % of our tickets\n"
     ]
    }
   ],
   "source": [
    "print('Our Android velocity this sprint is' , finishedAndroidPoints , 'points')\n",
    "print('We have completed' , androidPerformance['Completed %'].iloc[0].round() , '% of our tickets')"
   ]
  }
 ],
 "metadata": {
  "celltoolbar": "Slideshow",
  "kernelspec": {
   "display_name": "Python 3",
   "language": "python",
   "name": "python3"
  },
  "language_info": {
   "codemirror_mode": {
    "name": "ipython",
    "version": 3
   },
   "file_extension": ".py",
   "mimetype": "text/x-python",
   "name": "python",
   "nbconvert_exporter": "python",
   "pygments_lexer": "ipython3",
   "version": "3.6.3"
  }
 },
 "nbformat": 4,
 "nbformat_minor": 2
}
