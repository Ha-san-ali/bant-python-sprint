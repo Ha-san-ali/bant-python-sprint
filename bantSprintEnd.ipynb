{
 "cells": [
  {
   "cell_type": "markdown",
   "metadata": {},
   "source": [
    "# Sprint report test project with python\n",
    "\n",
    "This project is to see if Hasan can make sprint ends more useful by throwing away excel and using python instead. "
   ]
  },
  {
   "cell_type": "code",
   "execution_count": 1,
   "metadata": {
    "collapsed": true
   },
   "outputs": [],
   "source": [
    "# import dependencies\n",
    "import pandas as pd\n",
    "import numpy as np\n",
    "import matplotlib.pyplot as plt\n",
    "%matplotlib inline"
   ]
  },
  {
   "cell_type": "code",
   "execution_count": 2,
   "metadata": {
    "collapsed": true
   },
   "outputs": [],
   "source": [
    "# Load dataset\n",
    "df_bant_sprint20 = pd.read_csv('bant_sprint_20.csv')"
   ]
  },
  {
   "cell_type": "code",
   "execution_count": 3,
   "metadata": {},
   "outputs": [
    {
     "data": {
      "text/html": [
       "<div>\n",
       "<style scoped>\n",
       "    .dataframe tbody tr th:only-of-type {\n",
       "        vertical-align: middle;\n",
       "    }\n",
       "\n",
       "    .dataframe tbody tr th {\n",
       "        vertical-align: top;\n",
       "    }\n",
       "\n",
       "    .dataframe thead th {\n",
       "        text-align: right;\n",
       "    }\n",
       "</style>\n",
       "<table border=\"1\" class=\"dataframe\">\n",
       "  <thead>\n",
       "    <tr style=\"text-align: right;\">\n",
       "      <th></th>\n",
       "      <th>Key</th>\n",
       "      <th>Issue Type</th>\n",
       "      <th>Summary</th>\n",
       "      <th>Story Points</th>\n",
       "      <th>Status</th>\n",
       "      <th>Project</th>\n",
       "    </tr>\n",
       "  </thead>\n",
       "  <tbody>\n",
       "    <tr>\n",
       "      <th>0</th>\n",
       "      <td>BANTS-11</td>\n",
       "      <td>Chore</td>\n",
       "      <td>Setup email for bant</td>\n",
       "      <td>2.0</td>\n",
       "      <td>Closed</td>\n",
       "      <td>bant - Server</td>\n",
       "    </tr>\n",
       "    <tr>\n",
       "      <th>1</th>\n",
       "      <td>BANTI-77</td>\n",
       "      <td>Bug</td>\n",
       "      <td>Steps algorithm gives incorrect trends</td>\n",
       "      <td>2.0</td>\n",
       "      <td>Open</td>\n",
       "      <td>bant - iOS</td>\n",
       "    </tr>\n",
       "    <tr>\n",
       "      <th>2</th>\n",
       "      <td>BANTI-76</td>\n",
       "      <td>Feature</td>\n",
       "      <td>MealReading Overview View Controller</td>\n",
       "      <td>2.0</td>\n",
       "      <td>Review</td>\n",
       "      <td>bant - iOS</td>\n",
       "    </tr>\n",
       "    <tr>\n",
       "      <th>3</th>\n",
       "      <td>BANTI-75</td>\n",
       "      <td>Bug</td>\n",
       "      <td>BantBook no longer loads</td>\n",
       "      <td>0.5</td>\n",
       "      <td>Closed</td>\n",
       "      <td>bant - iOS</td>\n",
       "    </tr>\n",
       "    <tr>\n",
       "      <th>4</th>\n",
       "      <td>BANTI-62</td>\n",
       "      <td>Enhancement</td>\n",
       "      <td>Make the settings button easier to click</td>\n",
       "      <td>0.5</td>\n",
       "      <td>Ready to Merge</td>\n",
       "      <td>bant - iOS</td>\n",
       "    </tr>\n",
       "  </tbody>\n",
       "</table>\n",
       "</div>"
      ],
      "text/plain": [
       "        Key   Issue Type                                   Summary  \\\n",
       "0  BANTS-11        Chore                      Setup email for bant   \n",
       "1  BANTI-77          Bug    Steps algorithm gives incorrect trends   \n",
       "2  BANTI-76      Feature      MealReading Overview View Controller   \n",
       "3  BANTI-75          Bug                  BantBook no longer loads   \n",
       "4  BANTI-62  Enhancement  Make the settings button easier to click   \n",
       "\n",
       "   Story Points          Status        Project  \n",
       "0           2.0          Closed  bant - Server  \n",
       "1           2.0            Open     bant - iOS  \n",
       "2           2.0          Review     bant - iOS  \n",
       "3           0.5          Closed     bant - iOS  \n",
       "4           0.5  Ready to Merge     bant - iOS  "
      ]
     },
     "execution_count": 3,
     "metadata": {},
     "output_type": "execute_result"
    }
   ],
   "source": [
    "df_bant_sprint20.head()"
   ]
  },
  {
   "cell_type": "markdown",
   "metadata": {},
   "source": [
    "## Plan\n",
    "\n",
    "The plan now is to provide insightful information about the sprint to the audience. \n",
    "The plan will be:\n",
    "\n",
    "1) Seperate the projects into bant Android and bant iOS\n",
    "\n",
    "2) Identify what tickets were completed and what were not\n",
    "\n",
    "3) Create two graphs that show complete vs incomplete tickets\n",
    "\n",
    "4) Create a graph and datafram to show number of points completed per issue and use that to calculate velocity\n",
    "\n",
    "5) Compare to previous velocity?\n"
   ]
  },
  {
   "cell_type": "code",
   "execution_count": 10,
   "metadata": {},
   "outputs": [
    {
     "ename": "SyntaxError",
     "evalue": "invalid syntax (<ipython-input-10-b0357e697589>, line 1)",
     "output_type": "error",
     "traceback": [
      "\u001b[0;36m  File \u001b[0;32m\"<ipython-input-10-b0357e697589>\"\u001b[0;36m, line \u001b[0;32m1\u001b[0m\n\u001b[0;31m    df_bant_sprint20IOS[df_bant_sprint20['Project'] = \"bant - iOS\"]\u001b[0m\n\u001b[0m                                                    ^\u001b[0m\n\u001b[0;31mSyntaxError\u001b[0m\u001b[0;31m:\u001b[0m invalid syntax\n"
     ]
    }
   ],
   "source": [
    "df_bant_sprint20IOS[df_bant_sprint20['Project'] = \"bant - iOS\"]\n",
    "#df_bant_sprint20Android = (df_bant_sprint20['Project'] = 'bant - Android')\n",
    "df_bant_sprint20IOS.head()\n",
    "#df_bant_sprint20Android.head()"
   ]
  },
  {
   "cell_type": "code",
   "execution_count": null,
   "metadata": {
    "collapsed": true
   },
   "outputs": [],
   "source": []
  },
  {
   "cell_type": "code",
   "execution_count": null,
   "metadata": {
    "collapsed": true
   },
   "outputs": [],
   "source": []
  }
 ],
 "metadata": {
  "kernelspec": {
   "display_name": "Python 3",
   "language": "python",
   "name": "python3"
  },
  "language_info": {
   "codemirror_mode": {
    "name": "ipython",
    "version": 3
   },
   "file_extension": ".py",
   "mimetype": "text/x-python",
   "name": "python",
   "nbconvert_exporter": "python",
   "pygments_lexer": "ipython3",
   "version": "3.6.3"
  }
 },
 "nbformat": 4,
 "nbformat_minor": 2
}
